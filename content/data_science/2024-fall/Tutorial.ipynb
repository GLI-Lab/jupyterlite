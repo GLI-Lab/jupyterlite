{
 "cells": [
  {
   "cell_type": "markdown",
   "id": "efab19cd-c71f-49d1-b20b-85e92cf0eb73",
   "metadata": {},
   "source": [
    "# Python and Numpy Tutorial with Jupyter"
   ]
  },
  {
   "cell_type": "markdown",
   "id": "a154aa4a-94f9-4e2a-92f7-5565093161a4",
   "metadata": {},
   "source": [
    "[![Open In Colab](https://colab.research.google.com/assets/colab-badge.svg)](https://colab.research.google.com/github/GLI-Lab/jupyterlite/blob/main/content/data_science/2024-fall/Tutorial.ipynb)\n",
    "\n",
    "ref: https://cs231n.github.io/python-numpy-tutorial/"
   ]
  },
  {
   "cell_type": "markdown",
   "id": "3841f829-a2f0-4b57-aa82-e482481c0df9",
   "metadata": {},
   "source": [
    "Python is an excellent all-purpose programming language, and when paired with libraries like numpy, scipy, and matplotlib, it becomes an incredibly powerful tool for scientific computing. Whether you're already familiar with Python or just starting out, this section will provide a quick introduction to both Python and its application in scientific computing.\n",
    "\n",
    "Similarly, several libraries enhance Python's capabilities in specific areas:\n",
    "\n",
    "- **NumPy**: Essential for handling large arrays and matrices, NumPy offers efficient numerical computation tools, allowing for advanced mathematical operations with ease.\n",
    "\n",
    "- **SciPy**: Built on top of NumPy, SciPy adds more functionality for scientific and technical computing, including modules for optimization, integration, and signal processing.\n",
    "\n",
    "- **Matplotlib**: This library is the go-to for data visualization in Python, making it easy to create static, animated, or interactive plots with just a few lines of code.\n",
    "\n",
    "- **scikit-learn (sklearn)**: Widely used in the machine learning community, scikit-learn provides a simple and efficient platform for data mining, machine learning algorithms, and statistical modeling.\n",
    "\n",
    "Together, these libraries transform Python into a comprehensive environment for data analysis, visualization, and computational science."
   ]
  },
  {
   "cell_type": "markdown",
   "id": "e05a833f-c720-45fb-90f7-880d33b70869",
   "metadata": {},
   "source": [
    "In this tutorial, we will explore the following topics:\n",
    "\n",
    "- **Basic Python**: containers (Lists, Dictionaries, Sets, Tuples) and functions\n",
    "\n",
    "- **NumPy**: array creation, indexing, data types, mathematical operations, and broadcasting\n",
    "\n",
    "- **IPython**: interactive notebooks using Jupyter and typical workflows"
   ]
  },
  {
   "cell_type": "markdown",
   "id": "e6bd8ab3-ac98-4010-b038-5542dbd7406b",
   "metadata": {},
   "source": [
    "## 📌 Basic Python"
   ]
  },
  {
   "cell_type": "code",
   "execution_count": 1,
   "id": "56cbaebd-07e1-400b-8a8b-75effdff8984",
   "metadata": {},
   "outputs": [
    {
     "name": "stdout",
     "output_type": "stream",
     "text": [
      "Python 3.11.9\n"
     ]
    }
   ],
   "source": [
    "!python --version"
   ]
  },
  {
   "cell_type": "code",
   "execution_count": 2,
   "id": "0ecd32ae-21b6-4dbe-9c69-ddc10fc07059",
   "metadata": {},
   "outputs": [],
   "source": [
    "import random\n",
    "\n",
    "random_integers = [random.randint(1, 1000) for _ in range(10000)]"
   ]
  },
  {
   "cell_type": "code",
   "execution_count": 3,
   "id": "00640a33-6e96-4bf8-818f-34fead0968a5",
   "metadata": {},
   "outputs": [
    {
     "name": "stdout",
     "output_type": "stream",
     "text": [
      "[1, 1, 1, 1, 1, 1, 1, 1, 1, 1, 2, 2, 2, 2, 2, 2, 3, 3, 3, 3, 3, 3, 3, 3, 3, 3, 3, 3, 3, 3, 4, 4, 4, 4, 4, 4, 4, 4, 4, 4, 5, 5, 5, 5, 5, 5, 5, 5, 5, 5, 5, 5, 5, 5, 5, 5, 5, 5, 5, 6, 6, 6, 6, 6, 6, 6, 6, 6, 6, 7, 7, 7, 7, 7, 7, 7, 7, 7, 8, 8, 8, 8, 8, 8, 8, 8, 9, 9, 9, 9, 9, 9, 9, 9, 9, 9, 9, 9, 10, 10]\n",
      "CPU times: user 5.5 ms, sys: 0 ns, total: 5.5 ms\n",
      "Wall time: 5.42 ms\n"
     ]
    }
   ],
   "source": [
    "%%time\n",
    "\n",
    "def quick_sort(arr):\n",
    "    if len(arr) <= 1:\n",
    "        return arr\n",
    "    pivot = arr[len(arr) // 2]\n",
    "    left = [x for x in arr if x < pivot]\n",
    "    middle = [x for x in arr if x == pivot]\n",
    "    right = [x for x in arr if x > pivot]\n",
    "    return quick_sort(left) + middle + quick_sort(right)\n",
    "\n",
    "print(quick_sort(random_integers)[:100])"
   ]
  },
  {
   "cell_type": "code",
   "execution_count": 4,
   "id": "bb14efa0-3d07-4e8d-a855-7a3ba194b157",
   "metadata": {},
   "outputs": [
    {
     "name": "stdout",
     "output_type": "stream",
     "text": [
      "[1, 1, 1, 1, 1, 1, 1, 1, 1, 1, 2, 2, 2, 2, 2, 2, 3, 3, 3, 3, 3, 3, 3, 3, 3, 3, 3, 3, 3, 3, 4, 4, 4, 4, 4, 4, 4, 4, 4, 4, 5, 5, 5, 5, 5, 5, 5, 5, 5, 5, 5, 5, 5, 5, 5, 5, 5, 5, 5, 6, 6, 6, 6, 6, 6, 6, 6, 6, 6, 7, 7, 7, 7, 7, 7, 7, 7, 7, 8, 8, 8, 8, 8, 8, 8, 8, 9, 9, 9, 9, 9, 9, 9, 9, 9, 9, 9, 9, 10, 10]\n",
      "CPU times: user 2.2 s, sys: 0 ns, total: 2.2 s\n",
      "Wall time: 2.2 s\n"
     ]
    }
   ],
   "source": [
    "%%time\n",
    "\n",
    "def bubble_sort(arr):\n",
    "    n = len(arr)\n",
    "    for i in range(n):\n",
    "        for j in range(0, n-i-1):\n",
    "            if arr [j] > arr[j+1]:\n",
    "                arr[j], arr[j+1] = arr[j+1], arr[j]\n",
    "    return arr\n",
    "\n",
    "print(bubble_sort(random_integers)[:100])"
   ]
  },
  {
   "cell_type": "markdown",
   "id": "2435c9a2-3914-4d6b-ab1c-86ee0e380996",
   "metadata": {},
   "source": [
    "### Numbers"
   ]
  },
  {
   "cell_type": "code",
   "execution_count": 5,
   "id": "898fa783-3783-4479-9644-0c87da02f5f4",
   "metadata": {},
   "outputs": [
    {
     "name": "stdout",
     "output_type": "stream",
     "text": [
      "3 <class 'int'>\n"
     ]
    }
   ],
   "source": [
    "x = 3\n",
    "print(x, type(x))"
   ]
  },
  {
   "cell_type": "code",
   "execution_count": 6,
   "id": "633eaefd-56d6-4edc-8ebf-72c6d46ed189",
   "metadata": {},
   "outputs": [
    {
     "name": "stdout",
     "output_type": "stream",
     "text": [
      "4\n",
      "2\n",
      "6\n",
      "9\n"
     ]
    }
   ],
   "source": [
    "print(x + 1)   # Addition\n",
    "print(x - 1)   # Subtraction\n",
    "print(x * 2)   # Multiplication\n",
    "print(x ** 2)  # Exponentiation"
   ]
  },
  {
   "cell_type": "code",
   "execution_count": 7,
   "id": "bc584a1c-08d0-4c07-9485-05394938419a",
   "metadata": {},
   "outputs": [
    {
     "name": "stdout",
     "output_type": "stream",
     "text": [
      "4\n",
      "8\n"
     ]
    }
   ],
   "source": [
    "x += 1\n",
    "print(x)\n",
    "\n",
    "x *= 2\n",
    "print(x)"
   ]
  },
  {
   "cell_type": "code",
   "execution_count": 8,
   "id": "8434f436-b7e4-4ee5-afd9-03ead431d424",
   "metadata": {},
   "outputs": [
    {
     "name": "stdout",
     "output_type": "stream",
     "text": [
      "<class 'float'>\n",
      "2.5 3.5 5.0 6.25\n"
     ]
    }
   ],
   "source": [
    "y = 2.5\n",
    "print(type(y))\n",
    "print(y, y + 1, y * 2, y ** 2)"
   ]
  },
  {
   "cell_type": "markdown",
   "id": "448c08db-b19f-45d5-a25b-484b7a7f801d",
   "metadata": {},
   "source": [
    "### Booleans"
   ]
  },
  {
   "cell_type": "code",
   "execution_count": 9,
   "id": "23313faf-be3e-45db-a4e2-3324d650ebe3",
   "metadata": {},
   "outputs": [
    {
     "name": "stdout",
     "output_type": "stream",
     "text": [
      "<class 'bool'>\n"
     ]
    }
   ],
   "source": [
    "t, f = True, False\n",
    "print(type(t))"
   ]
  },
  {
   "cell_type": "code",
   "execution_count": 10,
   "id": "ac639504-34c4-4710-9d6d-f6b30f2b6cd7",
   "metadata": {},
   "outputs": [
    {
     "name": "stdout",
     "output_type": "stream",
     "text": [
      "False\n",
      "True\n",
      "False\n",
      "True\n"
     ]
    }
   ],
   "source": [
    "print(t and f)  # AND\n",
    "print(t or f)   # OR\n",
    "print(not t)    # NOT\n",
    "print(t != f)   # XOR"
   ]
  },
  {
   "cell_type": "markdown",
   "id": "6a6eb61b-cdeb-4c81-9aef-349b003c6c90",
   "metadata": {},
   "source": [
    "### Strings"
   ]
  },
  {
   "cell_type": "code",
   "execution_count": 11,
   "id": "f11250ad-9cd5-43f7-93f4-591b975154b0",
   "metadata": {},
   "outputs": [
    {
     "name": "stdout",
     "output_type": "stream",
     "text": [
      "hello 5\n"
     ]
    }
   ],
   "source": [
    "hello = 'hello'\n",
    "world = \"world\"\n",
    "print(hello, len(hello))"
   ]
  },
  {
   "cell_type": "code",
   "execution_count": 12,
   "id": "97a9ade3-b086-417d-959a-ab23784804ab",
   "metadata": {},
   "outputs": [
    {
     "name": "stdout",
     "output_type": "stream",
     "text": [
      "hello world\n"
     ]
    }
   ],
   "source": [
    "hw = hello + ' ' + world  # String concatenation\n",
    "print(hw)"
   ]
  },
  {
   "cell_type": "code",
   "execution_count": 13,
   "id": "0abc59f4-93f0-4755-ad86-f9bcc8dd3339",
   "metadata": {},
   "outputs": [
    {
     "name": "stdout",
     "output_type": "stream",
     "text": [
      "hello world 2024\n",
      "hello world 2024\n"
     ]
    }
   ],
   "source": [
    "hw2024 = '{} {} {}'.format(hello, world, 2024)\n",
    "print(hw2024)\n",
    "\n",
    "hello = 'hello'\n",
    "world = \"world\"\n",
    "hw2024 = f'{hello} {world} 2024'\n",
    "print(hw2024)"
   ]
  },
  {
   "cell_type": "code",
   "execution_count": 14,
   "id": "ae8c42e3-9edd-4ff5-825a-fc28b1367422",
   "metadata": {},
   "outputs": [
    {
     "name": "stdout",
     "output_type": "stream",
     "text": [
      "Hello\n",
      "HELLO\n",
      "  hello\n",
      " hello \n",
      "he(ell)(ell)o\n",
      "world\n"
     ]
    }
   ],
   "source": [
    "s = \"hello\"\n",
    "print(s.capitalize())         \n",
    "print(s.upper())              \n",
    "print(s.rjust(7))             \n",
    "print(s.center(7))            \n",
    "print(s.replace('l', '(ell)'))\n",
    "print('  world '.strip())     "
   ]
  },
  {
   "cell_type": "markdown",
   "id": "7cf82e86-13ec-4e84-b516-77ed50314432",
   "metadata": {},
   "source": [
    "### Containers"
   ]
  },
  {
   "cell_type": "markdown",
   "id": "6e3eede7-ec68-449e-a1c0-19ef40024643",
   "metadata": {},
   "source": [
    "#### Lists"
   ]
  },
  {
   "cell_type": "code",
   "execution_count": 15,
   "id": "1db96d3a-f4ee-40d9-a818-34759012f233",
   "metadata": {},
   "outputs": [
    {
     "name": "stdout",
     "output_type": "stream",
     "text": [
      "[3, 1, 2] 2\n",
      "2\n",
      "[3, 1, 'foo']\n",
      "[3, 1, 'foo', 'bar']\n",
      "bar [3, 1, 'foo']\n"
     ]
    }
   ],
   "source": [
    "xs = [3, 1, 2]\n",
    "print(xs, xs[2])  \n",
    "print(xs[-1])     \n",
    "\n",
    "xs[2] = 'foo'\n",
    "print(xs)         \n",
    "\n",
    "xs.append('bar')\n",
    "print(xs)         \n",
    "\n",
    "x = xs.pop()\n",
    "print(x, xs)      "
   ]
  },
  {
   "cell_type": "code",
   "execution_count": 16,
   "id": "4ee0425f-27b4-48b7-b4bb-2dd81b2f9014",
   "metadata": {},
   "outputs": [
    {
     "name": "stdout",
     "output_type": "stream",
     "text": [
      "[0, 1, 2, 3, 4]\n",
      "[2, 3]\n",
      "[2, 3, 4]\n",
      "[0, 1]\n",
      "[0, 1, 2, 3, 4]\n",
      "[0, 1, 2, 3]\n",
      "[0, 1, 8, 9, 4]\n"
     ]
    }
   ],
   "source": [
    "nums = list(range(5))     \n",
    "print(nums)               \n",
    "print(nums[2:4])          \n",
    "print(nums[2:])           \n",
    "print(nums[:2])           \n",
    "print(nums[:])            \n",
    "print(nums[:-1])          \n",
    "\n",
    "nums[2:4] = [8, 9]        \n",
    "print(nums)               "
   ]
  },
  {
   "cell_type": "code",
   "execution_count": 17,
   "id": "ca032579-37fe-45d8-a84b-55477f95131c",
   "metadata": {},
   "outputs": [
    {
     "name": "stdout",
     "output_type": "stream",
     "text": [
      "cat\n",
      "dog\n",
      "monkey\n",
      "#1: cat\n",
      "#2: dog\n",
      "#3: monkey\n"
     ]
    }
   ],
   "source": [
    "animals = ['cat', 'dog', 'monkey']\n",
    "\n",
    "for animal in animals:\n",
    "    print(animal)\n",
    "\n",
    "for idx, animal in enumerate(animals):\n",
    "    print('#%d: %s' % (idx + 1, animal))"
   ]
  },
  {
   "cell_type": "markdown",
   "id": "4fdaf130-73d0-4f4e-a9fd-2544aa70706e",
   "metadata": {},
   "source": [
    "##### List Comprehensions"
   ]
  },
  {
   "cell_type": "code",
   "execution_count": 18,
   "id": "25c28f80-ea6f-4135-b82e-a29ef76274c9",
   "metadata": {},
   "outputs": [
    {
     "name": "stdout",
     "output_type": "stream",
     "text": [
      "[0, 1, 4, 9, 16]\n",
      "[0, 4, 16]\n"
     ]
    }
   ],
   "source": [
    "nums = [0, 1, 2, 3, 4]\n",
    "squares = [x ** 2 for x in nums]\n",
    "print(squares)\n",
    "\n",
    "nums = [0, 1, 2, 3, 4]\n",
    "even_squares = [x ** 2 for x in nums if x % 2 == 0]\n",
    "print(even_squares)"
   ]
  },
  {
   "cell_type": "markdown",
   "id": "4480ded3-739c-45c7-ab23-5a21ab186e83",
   "metadata": {},
   "source": [
    "#### Dictionaries"
   ]
  },
  {
   "cell_type": "code",
   "execution_count": 19,
   "id": "04a7a02c-1d63-4d76-bf91-7d5f2652f0fc",
   "metadata": {},
   "outputs": [
    {
     "name": "stdout",
     "output_type": "stream",
     "text": [
      "cute\n",
      "True\n",
      "wet\n",
      "N/A\n",
      "wet\n",
      "N/A\n"
     ]
    }
   ],
   "source": [
    "d = {'cat': 'cute', 'dog': 'furry'} \n",
    "\n",
    "print(d['cat'])                # \"cute\"\n",
    "print('cat' in d)              # \"True\"\n",
    "\n",
    "d['fish'] = 'wet'              \n",
    "print(d['fish'])               # \"wet\"\n",
    "# print(d['monkey'])           # KeyError\n",
    "\n",
    "print(d.get('monkey', 'N/A'))  # \"N/A\"\n",
    "print(d.get('fish', 'N/A'))    # \"wet\"\n",
    "\n",
    "del d['fish']                  # Remove\n",
    "print(d.get('fish', 'N/A'))    # \"N/A\""
   ]
  },
  {
   "cell_type": "markdown",
   "id": "66434a56-5cb6-41ff-baa7-871b140dff1f",
   "metadata": {},
   "source": [
    "##### Dictionary Comprehensions"
   ]
  },
  {
   "cell_type": "code",
   "execution_count": 20,
   "id": "2ee2e729-aaf0-4950-aa24-1af1b05acfaa",
   "metadata": {},
   "outputs": [
    {
     "name": "stdout",
     "output_type": "stream",
     "text": [
      "{0: 0, 2: 4, 4: 16}\n"
     ]
    }
   ],
   "source": [
    "nums = [0, 1, 2, 3, 4]\n",
    "even_num_to_square = {x: x ** 2 for x in nums if x % 2 == 0}\n",
    "print(even_num_to_square)"
   ]
  },
  {
   "cell_type": "markdown",
   "id": "3eb5c22f-e3d2-471c-9488-03160f3b9251",
   "metadata": {},
   "source": [
    "#### Sets"
   ]
  },
  {
   "cell_type": "code",
   "execution_count": 21,
   "id": "bea7c6d7-faa0-486b-a7a3-c0aab7ceecf5",
   "metadata": {},
   "outputs": [
    {
     "name": "stdout",
     "output_type": "stream",
     "text": [
      "True\n",
      "False\n",
      "True\n",
      "3\n",
      "3\n",
      "2\n"
     ]
    }
   ],
   "source": [
    "animals = {'cat', 'dog'}\n",
    "\n",
    "print('cat' in animals)   # \"True\"\n",
    "print('fish' in animals)  # \"False\"\n",
    "\n",
    "animals.add('fish')      \n",
    "print('fish' in animals)  # \"True\"\n",
    "print(len(animals))       # \"3\"\n",
    "\n",
    "animals.add('cat')        \n",
    "print(len(animals))       # \"3\"\n",
    "\n",
    "animals.remove('cat')     \n",
    "print(len(animals))       # \"2\""
   ]
  },
  {
   "cell_type": "markdown",
   "id": "8ac47e31-6312-4bfa-9683-3eabb29fce80",
   "metadata": {},
   "source": [
    "##### Set Comprehensions"
   ]
  },
  {
   "cell_type": "code",
   "execution_count": 22,
   "id": "a900b77d-8265-448d-9509-8374d3f49208",
   "metadata": {},
   "outputs": [
    {
     "name": "stdout",
     "output_type": "stream",
     "text": [
      "{0, 1, 2, 3, 4, 5}\n"
     ]
    }
   ],
   "source": [
    "from math import sqrt\n",
    "\n",
    "nums = {int(sqrt(x)) for x in range(30)}\n",
    "print(nums)"
   ]
  },
  {
   "cell_type": "markdown",
   "id": "85bfccfb-3ff8-4e23-bb55-a7d1b42737f3",
   "metadata": {},
   "source": [
    "#### Tuples"
   ]
  },
  {
   "cell_type": "code",
   "execution_count": 23,
   "id": "8eef22d2-e8fd-4acd-938e-e57deca53719",
   "metadata": {},
   "outputs": [
    {
     "name": "stdout",
     "output_type": "stream",
     "text": [
      "<class 'tuple'>\n",
      "5\n",
      "1\n"
     ]
    }
   ],
   "source": [
    "d = {(x, x + 1): x for x in range(10)}\n",
    "t = (5, 6)        \n",
    "print(type(t))    # \"<class 'tuple'>\"\n",
    "print(d[t])       # \"5\"\n",
    "print(d[(1, 2)])  # \"1\""
   ]
  },
  {
   "cell_type": "markdown",
   "id": "02730542-2f0d-4872-882b-1b6578f30f96",
   "metadata": {},
   "source": [
    "### Functions"
   ]
  },
  {
   "cell_type": "code",
   "execution_count": 24,
   "id": "6bcee776-c476-4f72-8497-ea07504ccab6",
   "metadata": {},
   "outputs": [
    {
     "name": "stdout",
     "output_type": "stream",
     "text": [
      "negative\n",
      "zero\n",
      "positive\n"
     ]
    }
   ],
   "source": [
    "def sign(x):\n",
    "    if x > 0:\n",
    "        return 'positive'\n",
    "    elif x < 0:\n",
    "        return 'negative'\n",
    "    else:\n",
    "        return 'zero'\n",
    "\n",
    "for x in [-1, 0, 1]:\n",
    "    print(sign(x))  # \"negative\", \"zero\", \"positive\""
   ]
  },
  {
   "cell_type": "code",
   "execution_count": 25,
   "id": "529c2d1e-b435-48ac-89e7-17614017816e",
   "metadata": {},
   "outputs": [
    {
     "name": "stdout",
     "output_type": "stream",
     "text": [
      "Hello, Bob\n",
      "HELLO, FRED!\n"
     ]
    }
   ],
   "source": [
    "def hello(name, loud=False):\n",
    "    if loud:\n",
    "        print('HELLO, %s!' % name.upper())\n",
    "    else:\n",
    "        print('Hello, %s' % name)\n",
    "\n",
    "hello('Bob')              # \"Hello, Bob\"\n",
    "hello('Fred', loud=True)  # \"HELLO, FRED!\""
   ]
  },
  {
   "cell_type": "markdown",
   "id": "ce20efa8-ba7b-46c9-bc61-dc957b1254cf",
   "metadata": {},
   "source": [
    "## 📌 Numpy"
   ]
  },
  {
   "cell_type": "code",
   "execution_count": 26,
   "id": "875a52eb-f608-4bfe-9394-afec53f71b70",
   "metadata": {},
   "outputs": [],
   "source": [
    "import numpy as np"
   ]
  },
  {
   "cell_type": "markdown",
   "id": "e4f82fb3-563d-45db-a1c2-d775546d4495",
   "metadata": {},
   "source": [
    "### Arrays"
   ]
  },
  {
   "cell_type": "code",
   "execution_count": 27,
   "id": "f38de6ae-bbcb-4468-a2e8-51abed982ba1",
   "metadata": {},
   "outputs": [
    {
     "name": "stdout",
     "output_type": "stream",
     "text": [
      "<class 'numpy.ndarray'>\n",
      "(3,)\n",
      "1 2 3\n",
      "[5 2 3]\n"
     ]
    }
   ],
   "source": [
    "a = np.array([1, 2, 3])   # Create a rank 1 array\n",
    "\n",
    "print(type(a))            # \"<class 'numpy.ndarray'>\"\n",
    "print(a.shape)            # \"(3,)\"\n",
    "print(a[0], a[1], a[2])   # \"1 2 3\"\n",
    "\n",
    "a[0] = 5                  \n",
    "print(a)                  # \"[5, 2, 3]\""
   ]
  },
  {
   "cell_type": "code",
   "execution_count": 28,
   "id": "b454a8e8-f37e-4a78-b98b-32b775bfcd23",
   "metadata": {},
   "outputs": [
    {
     "name": "stdout",
     "output_type": "stream",
     "text": [
      "(2, 3)\n",
      "1 2 4\n"
     ]
    }
   ],
   "source": [
    "b = np.array([[1, 2, 3],\n",
    "              [4, 5, 6]])\n",
    "\n",
    "print(b.shape)                     # \"(2, 3)\"\n",
    "print(b[0, 0], b[0, 1], b[1, 0])   # \"1 2 4\""
   ]
  },
  {
   "cell_type": "code",
   "execution_count": 29,
   "id": "65430810-3f16-4e6b-8d48-8cb9014ae310",
   "metadata": {},
   "outputs": [
    {
     "name": "stdout",
     "output_type": "stream",
     "text": [
      "[[0. 0.]\n",
      " [0. 0.]]\n",
      "[[1. 1.]]\n",
      "[[7 7]\n",
      " [7 7]]\n",
      "[[1. 0.]\n",
      " [0. 1.]]\n",
      "[[0.10820736 0.93265503]\n",
      " [0.2792792  0.97664304]]\n"
     ]
    }
   ],
   "source": [
    "a = np.zeros((2,2))   \n",
    "print(a)\n",
    "# [[ 0.  0.]\n",
    "#  [ 0.  0.]]\n",
    "\n",
    "b = np.ones((1,2))    \n",
    "print(b)              \n",
    "# [[ 1.  1.]]\n",
    "\n",
    "c = np.full((2,2), 7)\n",
    "print(c)\n",
    "# [[ 7.  7.]\n",
    "#  [ 7.  7.]]\n",
    "\n",
    "d = np.eye(2)         \n",
    "print(d)\n",
    "# [[ 1.  0.]\n",
    "#  [ 0.  1.]]\n",
    "        \n",
    "e = np.random.random((2,2)) \n",
    "print(e)                    \n",
    "# [[ 0.91940167  0.08143941]\n",
    "#  [ 0.68744134  0.87236687]]"
   ]
  },
  {
   "cell_type": "markdown",
   "id": "e85989d6-d269-4ccc-8c56-64d04435f0db",
   "metadata": {},
   "source": [
    "### Array indexing"
   ]
  },
  {
   "cell_type": "markdown",
   "id": "a91eff2c-536d-41dc-be6e-9ecf607e0dfb",
   "metadata": {},
   "source": [
    "#### Slicing"
   ]
  },
  {
   "cell_type": "code",
   "execution_count": 30,
   "id": "9c299651-5066-42ee-b4dc-86699a3823d7",
   "metadata": {},
   "outputs": [
    {
     "name": "stdout",
     "output_type": "stream",
     "text": [
      "2\n",
      "77\n"
     ]
    }
   ],
   "source": [
    "a = np.array([[1, 2, 3, 4], \n",
    "              [5, 6, 7, 8], \n",
    "              [9, 10, 11, 12]])\n",
    "\n",
    "b = a[:2, 1:3]\n",
    "# [[2 3]\n",
    "#  [6 7]]\n",
    "\n",
    "print(a[0, 1])   # \"2\"\n",
    "b[0, 0] = 77     # b[0, 0] == a[0, 1]\n",
    "print(a[0, 1])   # \"77\""
   ]
  },
  {
   "cell_type": "markdown",
   "id": "4fff2b3e-038e-414f-9e5d-6abb88708b5a",
   "metadata": {},
   "source": [
    "#### Integer array indexing"
   ]
  },
  {
   "cell_type": "code",
   "execution_count": 31,
   "id": "3cdbbd1d-08f7-4362-ab7a-c585a6d81d82",
   "metadata": {},
   "outputs": [
    {
     "name": "stdout",
     "output_type": "stream",
     "text": [
      "[5 6 7 8] (4,)\n",
      "[[5 6 7 8]] (1, 4)\n",
      "[ 2  6 10] (3,)\n",
      "[[ 2]\n",
      " [ 6]\n",
      " [10]] (3, 1)\n"
     ]
    }
   ],
   "source": [
    "a = np.array([[1, 2, 3, 4], \n",
    "              [5, 6, 7, 8], \n",
    "              [9, 10, 11, 12]])\n",
    "\n",
    "row_r1 = a[1, :]             \n",
    "row_r2 = a[1:2, :]           \n",
    "print(row_r1, row_r1.shape)  # \"[5 6 7 8] (4,)\"\n",
    "print(row_r2, row_r2.shape)  # \"[[5 6 7 8]] (1, 4)\"\n",
    "\n",
    "col_r1 = a[:, 1]\n",
    "col_r2 = a[:, 1:2]\n",
    "print(col_r1, col_r1.shape)  # \"[ 2  6 10] (3,)\"\n",
    "print(col_r2, col_r2.shape)\n",
    "# [[ 2]\n",
    "#  [ 6]\n",
    "#  [10]] (3, 1)"
   ]
  },
  {
   "cell_type": "code",
   "execution_count": 32,
   "id": "5de92eda-f656-453d-9b15-54ca1249e176",
   "metadata": {},
   "outputs": [
    {
     "name": "stdout",
     "output_type": "stream",
     "text": [
      "[1 4 5]\n",
      "[1 4 5]\n",
      "[2 2]\n",
      "[2 2]\n"
     ]
    }
   ],
   "source": [
    "a = np.array([[1, 2], \n",
    "              [3, 4], \n",
    "              [5, 6]])\n",
    "\n",
    "print(a[[0, 1, 2], [0, 1, 0]])                # \"[1 4 5]\"\n",
    "print(np.array([a[0, 0], a[1, 1], a[2, 0]]))  # \"[1 4 5]\"\n",
    "\n",
    "print(a[[0, 0], [1, 1]])             # \"[2 2]\"\n",
    "print(np.array([a[0, 1], a[0, 1]]))  # \"[2 2]\""
   ]
  },
  {
   "cell_type": "code",
   "execution_count": 33,
   "id": "82d63852-50f8-4619-ab7c-b25a9bcef727",
   "metadata": {},
   "outputs": [
    {
     "name": "stdout",
     "output_type": "stream",
     "text": [
      "[[ 1  2  3]\n",
      " [ 4  5  6]\n",
      " [ 7  8  9]\n",
      " [10 11 12]]\n",
      "[ 1  6  7 11]\n",
      "[[11  2  3]\n",
      " [ 4  5 16]\n",
      " [17  8  9]\n",
      " [10 21 12]]\n"
     ]
    }
   ],
   "source": [
    "a = np.array([[1, 2, 3], \n",
    "              [4, 5, 6], \n",
    "              [7, 8, 9], \n",
    "              [10, 11, 12]])\n",
    "\n",
    "print(a)\n",
    "# array([[ 1,  2,  3],\n",
    "#        [ 4,  5,  6],\n",
    "#        [ 7,  8,  9],\n",
    "#        [10, 11, 12]])\n",
    "\n",
    "b = np.array([0, 2, 0, 1])\n",
    "\n",
    "print(a[np.arange(4), b])\n",
    "# [ 1  6  7 11]\n",
    "\n",
    "a[np.arange(4), b] += 10\n",
    "print(a)\n",
    "# array([[11,  2,  3],\n",
    "#        [ 4,  5, 16],\n",
    "#        [17,  8,  9],\n",
    "#        [10, 21, 12]]"
   ]
  },
  {
   "cell_type": "markdown",
   "id": "1fc4971b-fd31-4995-ae85-9c0644118b2c",
   "metadata": {},
   "source": [
    "#### Boolean array indexing"
   ]
  },
  {
   "cell_type": "code",
   "execution_count": 34,
   "id": "2e019e97-0758-4bb4-9964-49535ad473fa",
   "metadata": {},
   "outputs": [
    {
     "name": "stdout",
     "output_type": "stream",
     "text": [
      "[[False False]\n",
      " [ True  True]\n",
      " [ True  True]]\n",
      "[3 4 5 6]\n",
      "[3 4 5 6]\n"
     ]
    }
   ],
   "source": [
    "a = np.array([[1, 2], \n",
    "              [3, 4], \n",
    "              [5, 6]])\n",
    "\n",
    "bool_idx = (a > 2)\n",
    "\n",
    "print(bool_idx)\n",
    "# [[False False]\n",
    "#  [ True  True]\n",
    "#  [ True  True]]\n",
    "\n",
    "print(a[bool_idx])  \n",
    "# [3 4 5 6]\n",
    "\n",
    "print(a[a > 2])     \n",
    "# [3 4 5 6]"
   ]
  },
  {
   "cell_type": "markdown",
   "id": "07d6d205-0a09-4062-80aa-84efb72ae451",
   "metadata": {},
   "source": [
    "### Datatypes"
   ]
  },
  {
   "cell_type": "code",
   "execution_count": 35,
   "id": "3fd51ef8-1640-4875-ae5a-35e9d0033be0",
   "metadata": {},
   "outputs": [
    {
     "name": "stdout",
     "output_type": "stream",
     "text": [
      "int64\n",
      "float64\n",
      "int64\n"
     ]
    }
   ],
   "source": [
    "x = np.array([1, 2])   \n",
    "print(x.dtype)  # \"int64\"\n",
    "\n",
    "x = np.array([1.0, 2.0])   \n",
    "print(x.dtype)  # \"float64\"\n",
    "\n",
    "x = np.array([1, 2], dtype=np.int64)\n",
    "print(x.dtype)  # \"int64\""
   ]
  },
  {
   "cell_type": "markdown",
   "id": "9f2bc365-7df5-4b06-b5d5-d8e8f37065cc",
   "metadata": {},
   "source": [
    "### Array math"
   ]
  },
  {
   "cell_type": "code",
   "execution_count": 36,
   "id": "aff2ddbb-e06d-44b4-882d-3f1f23b0a0b5",
   "metadata": {},
   "outputs": [],
   "source": [
    "x = np.array([[1,2],[3,4]], dtype=np.float64)\n",
    "y = np.array([[5,6],[7,8]], dtype=np.float64)"
   ]
  },
  {
   "cell_type": "markdown",
   "id": "b386cd17-8c28-46a4-b9d9-c607ba3e9b4b",
   "metadata": {},
   "source": [
    "#### Elementwise"
   ]
  },
  {
   "cell_type": "code",
   "execution_count": 37,
   "id": "b3c8ce53-e865-424d-b6d7-098e6a46e8ff",
   "metadata": {},
   "outputs": [
    {
     "name": "stdout",
     "output_type": "stream",
     "text": [
      "[[ 6.  8.]\n",
      " [10. 12.]]\n",
      "[[ 6.  8.]\n",
      " [10. 12.]]\n",
      "[[-4. -4.]\n",
      " [-4. -4.]]\n",
      "[[-4. -4.]\n",
      " [-4. -4.]]\n",
      "[[ 5. 12.]\n",
      " [21. 32.]]\n",
      "[[ 5. 12.]\n",
      " [21. 32.]]\n",
      "[[0.2        0.33333333]\n",
      " [0.42857143 0.5       ]]\n",
      "[[0.2        0.33333333]\n",
      " [0.42857143 0.5       ]]\n",
      "[[1.         1.41421356]\n",
      " [1.73205081 2.        ]]\n"
     ]
    }
   ],
   "source": [
    "# Elementwise sum\n",
    "print(x + y)\n",
    "print(np.add(x, y))\n",
    "# [[ 6.0  8.0]\n",
    "#  [10.0 12.0]]\n",
    "\n",
    "# Elementwise difference\n",
    "print(x - y)\n",
    "print(np.subtract(x, y))\n",
    "# [[-4.0 -4.0]\n",
    "#  [-4.0 -4.0]]\n",
    "\n",
    "# Elementwise product\n",
    "print(x * y)\n",
    "print(np.multiply(x, y))\n",
    "# [[ 5.0 12.0]\n",
    "#  [21.0 32.0]]\n",
    "\n",
    "# Elementwise division\n",
    "print(x / y)\n",
    "print(np.divide(x, y))\n",
    "# [[ 0.2         0.33333333]\n",
    "#  [ 0.42857143  0.5       ]]\n",
    "\n",
    "# Elementwise square root\n",
    "print(np.sqrt(x))\n",
    "# [[ 1.          1.41421356]\n",
    "#  [ 1.73205081  2.        ]]"
   ]
  },
  {
   "cell_type": "markdown",
   "id": "f4270b5a-39e3-4a74-82d9-ef3d4132fdf7",
   "metadata": {},
   "source": [
    "#### Product"
   ]
  },
  {
   "cell_type": "code",
   "execution_count": 38,
   "id": "a0b0b0b4-0091-462f-848c-b6b1ca559891",
   "metadata": {},
   "outputs": [
    {
     "name": "stdout",
     "output_type": "stream",
     "text": [
      "219\n",
      "219\n",
      "[29 67]\n",
      "[29 67]\n",
      "[[19 22]\n",
      " [43 50]]\n",
      "[[19 22]\n",
      " [43 50]]\n"
     ]
    }
   ],
   "source": [
    "x = np.array([[1,2],[3,4]])\n",
    "y = np.array([[5,6],[7,8]])\n",
    "\n",
    "v = np.array([9,10])\n",
    "w = np.array([11, 12])\n",
    "\n",
    "# Inner product\n",
    "print(v.dot(w))\n",
    "print(np.dot(v, w))\n",
    "\n",
    "# Matrix / vector product\n",
    "print(x.dot(v))\n",
    "print(np.dot(x, v))\n",
    "\n",
    "# Matrix / matrix product\n",
    "print(x.dot(y))\n",
    "print(np.dot(x, y))\n",
    "# [[19 22]\n",
    "#  [43 50]]"
   ]
  },
  {
   "cell_type": "markdown",
   "id": "cf6d4fcd-7743-4a21-b668-cad62b589d00",
   "metadata": {},
   "source": [
    "#### Sum"
   ]
  },
  {
   "cell_type": "code",
   "execution_count": 39,
   "id": "0b501ed2-5973-4132-b3b1-eb7094c14aaa",
   "metadata": {},
   "outputs": [
    {
     "name": "stdout",
     "output_type": "stream",
     "text": [
      "10\n",
      "[4 6]\n",
      "[3 7]\n"
     ]
    }
   ],
   "source": [
    "x = np.array([[1,2],[3,4]])\n",
    "\n",
    "print(np.sum(x))          # \"10\"\n",
    "print(np.sum(x, axis=0))  # \"[4 6]\"\n",
    "print(np.sum(x, axis=1))  # \"[3 7]\""
   ]
  },
  {
   "cell_type": "markdown",
   "id": "84added8-f990-47ea-8f3c-62b693d18dd6",
   "metadata": {},
   "source": [
    "### Broadcasting"
   ]
  },
  {
   "cell_type": "markdown",
   "id": "295a62df-d303-4d10-a082-d3517df7a347",
   "metadata": {},
   "source": [
    "#### Outer product"
   ]
  },
  {
   "cell_type": "code",
   "execution_count": 40,
   "id": "572910ee-326f-48c1-8450-902dc81868d1",
   "metadata": {},
   "outputs": [
    {
     "name": "stdout",
     "output_type": "stream",
     "text": [
      "[[ 4  5]\n",
      " [ 8 10]\n",
      " [12 15]]\n"
     ]
    }
   ],
   "source": [
    "v = np.array([1,2,3])  # v has shape (3,)\n",
    "w = np.array([4,5])    # w has shape (2,)\n",
    "\n",
    "print(np.reshape(v, (3, 1)) * w)\n",
    "# [[ 4  5]\n",
    "#  [ 8 10]\n",
    "#  [12 15]]"
   ]
  },
  {
   "cell_type": "markdown",
   "id": "66026d05-bfd5-4cd4-9837-61fda763f504",
   "metadata": {},
   "source": [
    "#### Add"
   ]
  },
  {
   "cell_type": "code",
   "execution_count": 41,
   "id": "2497361c-3d5e-4cc3-8240-2229c38341be",
   "metadata": {},
   "outputs": [
    {
     "name": "stdout",
     "output_type": "stream",
     "text": [
      "[[2 4 6]\n",
      " [5 7 9]]\n",
      "[[ 5  6  7]\n",
      " [ 9 10 11]]\n",
      "[[ 5  6  7]\n",
      " [ 9 10 11]]\n"
     ]
    }
   ],
   "source": [
    "x = np.array([[1,2,3], \n",
    "              [4,5,6]])\n",
    "\n",
    "print(x + v)\n",
    "# [[2 4 6]\n",
    "#  [5 7 9]]\n",
    "\n",
    "print((x.T + w).T)\n",
    "# [[ 5  6  7]\n",
    "#  [ 9 10 11]]\n",
    "\n",
    "print(x + np.reshape(w, (2, 1)))\n",
    "# [[ 5  6  7]\n",
    "#  [ 9 10 11]]"
   ]
  },
  {
   "cell_type": "markdown",
   "id": "db916c5c-bfce-4627-aa71-2fa53e75adba",
   "metadata": {},
   "source": [
    "#### Multiply"
   ]
  },
  {
   "cell_type": "code",
   "execution_count": 42,
   "id": "8ae597ed-e170-40cd-b3c8-14488c19ded2",
   "metadata": {},
   "outputs": [
    {
     "name": "stdout",
     "output_type": "stream",
     "text": [
      "[[ 2  4  6]\n",
      " [ 8 10 12]]\n"
     ]
    }
   ],
   "source": [
    "print(x * 2)\n",
    "# [[ 2  4  6]\n",
    "#  [ 8 10 12]]"
   ]
  }
 ],
 "metadata": {
  "kernelspec": {
   "display_name": "Python 3 (ipykernel)",
   "language": "python",
   "name": "python3"
  },
  "language_info": {
   "codemirror_mode": {
    "name": "ipython",
    "version": 3
   },
   "file_extension": ".py",
   "mimetype": "text/x-python",
   "name": "python",
   "nbconvert_exporter": "python",
   "pygments_lexer": "ipython3",
   "version": "3.11.9"
  }
 },
 "nbformat": 4,
 "nbformat_minor": 5
}
